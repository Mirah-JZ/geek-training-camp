{
  "nbformat": 4,
  "nbformat_minor": 0,
  "metadata": {
    "colab": {
      "name": "pytorch_onnx_trt.ipynb",
      "provenance": [],
      "collapsed_sections": []
    },
    "kernelspec": {
      "name": "python3",
      "display_name": "Python 3"
    },
    "language_info": {
      "name": "python"
    },
    "accelerator": "GPU",
    "widgets": {
      "application/vnd.jupyter.widget-state+json": {
        "b95f30ffb3cd4d1e8e5bdd8ce615b11e": {
          "model_module": "@jupyter-widgets/controls",
          "model_name": "HBoxModel",
          "state": {
            "_view_name": "HBoxView",
            "_dom_classes": [],
            "_model_name": "HBoxModel",
            "_view_module": "@jupyter-widgets/controls",
            "_model_module_version": "1.5.0",
            "_view_count": null,
            "_view_module_version": "1.5.0",
            "box_style": "",
            "layout": "IPY_MODEL_c7006d6603ce4eeb8b3274882932a860",
            "_model_module": "@jupyter-widgets/controls",
            "children": [
              "IPY_MODEL_7cf4cfdcc96e46af812caef6bd79ba62",
              "IPY_MODEL_2361640b29e243b28be94cb5815260e4"
            ]
          }
        },
        "c7006d6603ce4eeb8b3274882932a860": {
          "model_module": "@jupyter-widgets/base",
          "model_name": "LayoutModel",
          "state": {
            "_view_name": "LayoutView",
            "grid_template_rows": null,
            "right": null,
            "justify_content": null,
            "_view_module": "@jupyter-widgets/base",
            "overflow": null,
            "_model_module_version": "1.2.0",
            "_view_count": null,
            "flex_flow": null,
            "width": null,
            "min_width": null,
            "border": null,
            "align_items": null,
            "bottom": null,
            "_model_module": "@jupyter-widgets/base",
            "top": null,
            "grid_column": null,
            "overflow_y": null,
            "overflow_x": null,
            "grid_auto_flow": null,
            "grid_area": null,
            "grid_template_columns": null,
            "flex": null,
            "_model_name": "LayoutModel",
            "justify_items": null,
            "grid_row": null,
            "max_height": null,
            "align_content": null,
            "visibility": null,
            "align_self": null,
            "height": null,
            "min_height": null,
            "padding": null,
            "grid_auto_rows": null,
            "grid_gap": null,
            "max_width": null,
            "order": null,
            "_view_module_version": "1.2.0",
            "grid_template_areas": null,
            "object_position": null,
            "object_fit": null,
            "grid_auto_columns": null,
            "margin": null,
            "display": null,
            "left": null
          }
        },
        "7cf4cfdcc96e46af812caef6bd79ba62": {
          "model_module": "@jupyter-widgets/controls",
          "model_name": "FloatProgressModel",
          "state": {
            "_view_name": "ProgressView",
            "style": "IPY_MODEL_1f59335bcb6f4c37b84df47f5df217b1",
            "_dom_classes": [],
            "description": "100%",
            "_model_name": "FloatProgressModel",
            "bar_style": "success",
            "max": 102502400,
            "_view_module": "@jupyter-widgets/controls",
            "_model_module_version": "1.5.0",
            "value": 102502400,
            "_view_count": null,
            "_view_module_version": "1.5.0",
            "orientation": "horizontal",
            "min": 0,
            "description_tooltip": null,
            "_model_module": "@jupyter-widgets/controls",
            "layout": "IPY_MODEL_11a129d2d2c848068125b02dc50ee638"
          }
        },
        "2361640b29e243b28be94cb5815260e4": {
          "model_module": "@jupyter-widgets/controls",
          "model_name": "HTMLModel",
          "state": {
            "_view_name": "HTMLView",
            "style": "IPY_MODEL_810c17c1ae974f309c2c73f4f997fb2d",
            "_dom_classes": [],
            "description": "",
            "_model_name": "HTMLModel",
            "placeholder": "​",
            "_view_module": "@jupyter-widgets/controls",
            "_model_module_version": "1.5.0",
            "value": " 97.8M/97.8M [00:03&lt;00:00, 32.9MB/s]",
            "_view_count": null,
            "_view_module_version": "1.5.0",
            "description_tooltip": null,
            "_model_module": "@jupyter-widgets/controls",
            "layout": "IPY_MODEL_c52eefcfb1714e7f8977cc89231599a8"
          }
        },
        "1f59335bcb6f4c37b84df47f5df217b1": {
          "model_module": "@jupyter-widgets/controls",
          "model_name": "ProgressStyleModel",
          "state": {
            "_view_name": "StyleView",
            "_model_name": "ProgressStyleModel",
            "description_width": "initial",
            "_view_module": "@jupyter-widgets/base",
            "_model_module_version": "1.5.0",
            "_view_count": null,
            "_view_module_version": "1.2.0",
            "bar_color": null,
            "_model_module": "@jupyter-widgets/controls"
          }
        },
        "11a129d2d2c848068125b02dc50ee638": {
          "model_module": "@jupyter-widgets/base",
          "model_name": "LayoutModel",
          "state": {
            "_view_name": "LayoutView",
            "grid_template_rows": null,
            "right": null,
            "justify_content": null,
            "_view_module": "@jupyter-widgets/base",
            "overflow": null,
            "_model_module_version": "1.2.0",
            "_view_count": null,
            "flex_flow": null,
            "width": null,
            "min_width": null,
            "border": null,
            "align_items": null,
            "bottom": null,
            "_model_module": "@jupyter-widgets/base",
            "top": null,
            "grid_column": null,
            "overflow_y": null,
            "overflow_x": null,
            "grid_auto_flow": null,
            "grid_area": null,
            "grid_template_columns": null,
            "flex": null,
            "_model_name": "LayoutModel",
            "justify_items": null,
            "grid_row": null,
            "max_height": null,
            "align_content": null,
            "visibility": null,
            "align_self": null,
            "height": null,
            "min_height": null,
            "padding": null,
            "grid_auto_rows": null,
            "grid_gap": null,
            "max_width": null,
            "order": null,
            "_view_module_version": "1.2.0",
            "grid_template_areas": null,
            "object_position": null,
            "object_fit": null,
            "grid_auto_columns": null,
            "margin": null,
            "display": null,
            "left": null
          }
        },
        "810c17c1ae974f309c2c73f4f997fb2d": {
          "model_module": "@jupyter-widgets/controls",
          "model_name": "DescriptionStyleModel",
          "state": {
            "_view_name": "StyleView",
            "_model_name": "DescriptionStyleModel",
            "description_width": "",
            "_view_module": "@jupyter-widgets/base",
            "_model_module_version": "1.5.0",
            "_view_count": null,
            "_view_module_version": "1.2.0",
            "_model_module": "@jupyter-widgets/controls"
          }
        },
        "c52eefcfb1714e7f8977cc89231599a8": {
          "model_module": "@jupyter-widgets/base",
          "model_name": "LayoutModel",
          "state": {
            "_view_name": "LayoutView",
            "grid_template_rows": null,
            "right": null,
            "justify_content": null,
            "_view_module": "@jupyter-widgets/base",
            "overflow": null,
            "_model_module_version": "1.2.0",
            "_view_count": null,
            "flex_flow": null,
            "width": null,
            "min_width": null,
            "border": null,
            "align_items": null,
            "bottom": null,
            "_model_module": "@jupyter-widgets/base",
            "top": null,
            "grid_column": null,
            "overflow_y": null,
            "overflow_x": null,
            "grid_auto_flow": null,
            "grid_area": null,
            "grid_template_columns": null,
            "flex": null,
            "_model_name": "LayoutModel",
            "justify_items": null,
            "grid_row": null,
            "max_height": null,
            "align_content": null,
            "visibility": null,
            "align_self": null,
            "height": null,
            "min_height": null,
            "padding": null,
            "grid_auto_rows": null,
            "grid_gap": null,
            "max_width": null,
            "order": null,
            "_view_module_version": "1.2.0",
            "grid_template_areas": null,
            "object_position": null,
            "object_fit": null,
            "grid_auto_columns": null,
            "margin": null,
            "display": null,
            "left": null
          }
        }
      }
    }
  },
  "cells": [
    {
      "cell_type": "markdown",
      "metadata": {
        "id": "_otgh68H9f_0"
      },
      "source": [
        "# TensorRT with PyTorch"
      ]
    },
    {
      "cell_type": "code",
      "metadata": {
        "colab": {
          "base_uri": "https://localhost:8080/"
        },
        "id": "4p4ts4MW9fkt",
        "outputId": "cf78e935-ffbd-4612-bc41-a2f235929335"
      },
      "source": [
        "!nvidia-smi"
      ],
      "execution_count": null,
      "outputs": [
        {
          "output_type": "stream",
          "text": [
            "Wed May 12 00:25:59 2021       \n",
            "+-----------------------------------------------------------------------------+\n",
            "| NVIDIA-SMI 465.19.01    Driver Version: 460.32.03    CUDA Version: 11.2     |\n",
            "|-------------------------------+----------------------+----------------------+\n",
            "| GPU  Name        Persistence-M| Bus-Id        Disp.A | Volatile Uncorr. ECC |\n",
            "| Fan  Temp  Perf  Pwr:Usage/Cap|         Memory-Usage | GPU-Util  Compute M. |\n",
            "|                               |                      |               MIG M. |\n",
            "|===============================+======================+======================|\n",
            "|   0  Tesla P100-PCIE...  Off  | 00000000:00:04.0 Off |                    0 |\n",
            "| N/A   44C    P0    27W / 250W |      0MiB / 16280MiB |      0%      Default |\n",
            "|                               |                      |                  N/A |\n",
            "+-------------------------------+----------------------+----------------------+\n",
            "                                                                               \n",
            "+-----------------------------------------------------------------------------+\n",
            "| Processes:                                                                  |\n",
            "|  GPU   GI   CI        PID   Type   Process name                  GPU Memory |\n",
            "|        ID   ID                                                   Usage      |\n",
            "|=============================================================================|\n",
            "|  No running processes found                                                 |\n",
            "+-----------------------------------------------------------------------------+\n"
          ],
          "name": "stdout"
        }
      ]
    },
    {
      "cell_type": "markdown",
      "metadata": {
        "id": "Tz6RrvTJ-LkT"
      },
      "source": [
        "## Download TensorRT7"
      ]
    },
    {
      "cell_type": "code",
      "metadata": {
        "colab": {
          "base_uri": "https://localhost:8080/"
        },
        "id": "Ga7PWBJh9vWL",
        "outputId": "6875bd03-68c1-4e9c-ef49-517c8dc595d9"
      },
      "source": [
        "!wget --load-cookies /tmp/cookies.txt \"https://docs.google.com/uc?export=download&confirm=$(wget --quiet --save-cookies /tmp/cookies.txt --keep-session-cookies --no-check-certificate 'https://docs.google.com/uc?export=download&id=117bRc2ArDHFy9X0j5Y71pMn7q9Y777fH' -O- | sed -rn 's/.*confirm=([0-9A-Za-z_]+).*/\\1\\n/p')&id=117bRc2ArDHFy9X0j5Y71pMn7q9Y777fH\" -O TensorRT-7.2.3.4.Ubuntu-18.04.x86_64-gnu.cuda-11.1.cudnn8.1.tar.gz && rm -rf /tmp/cookies.txt"
      ],
      "execution_count": null,
      "outputs": [
        {
          "output_type": "stream",
          "text": [
            "--2021-05-12 00:27:51--  https://docs.google.com/uc?export=download&confirm=K_d1&id=117bRc2ArDHFy9X0j5Y71pMn7q9Y777fH\n",
            "Resolving docs.google.com (docs.google.com)... 74.125.195.100, 74.125.195.139, 74.125.195.101, ...\n",
            "Connecting to docs.google.com (docs.google.com)|74.125.195.100|:443... connected.\n",
            "HTTP request sent, awaiting response... 302 Moved Temporarily\n",
            "Location: https://doc-0o-bc-docs.googleusercontent.com/docs/securesc/4mqm7oedsfn6qj87djsooo6flociam01/024c4ojllhmo5i1dfs5ogcks4790o3gf/1620779250000/08464293851449423376/07624238021879239110Z/117bRc2ArDHFy9X0j5Y71pMn7q9Y777fH?e=download [following]\n",
            "--2021-05-12 00:27:51--  https://doc-0o-bc-docs.googleusercontent.com/docs/securesc/4mqm7oedsfn6qj87djsooo6flociam01/024c4ojllhmo5i1dfs5ogcks4790o3gf/1620779250000/08464293851449423376/07624238021879239110Z/117bRc2ArDHFy9X0j5Y71pMn7q9Y777fH?e=download\n",
            "Resolving doc-0o-bc-docs.googleusercontent.com (doc-0o-bc-docs.googleusercontent.com)... 74.125.195.132, 2607:f8b0:400e:c09::84\n",
            "Connecting to doc-0o-bc-docs.googleusercontent.com (doc-0o-bc-docs.googleusercontent.com)|74.125.195.132|:443... connected.\n",
            "HTTP request sent, awaiting response... 302 Found\n",
            "Location: https://docs.google.com/nonceSigner?nonce=jq992s4f0n44i&continue=https://doc-0o-bc-docs.googleusercontent.com/docs/securesc/4mqm7oedsfn6qj87djsooo6flociam01/024c4ojllhmo5i1dfs5ogcks4790o3gf/1620779250000/08464293851449423376/07624238021879239110Z/117bRc2ArDHFy9X0j5Y71pMn7q9Y777fH?e%3Ddownload&hash=cigs9jfthnio11o1thsgq20c1ipbm6f3 [following]\n",
            "--2021-05-12 00:27:51--  https://docs.google.com/nonceSigner?nonce=jq992s4f0n44i&continue=https://doc-0o-bc-docs.googleusercontent.com/docs/securesc/4mqm7oedsfn6qj87djsooo6flociam01/024c4ojllhmo5i1dfs5ogcks4790o3gf/1620779250000/08464293851449423376/07624238021879239110Z/117bRc2ArDHFy9X0j5Y71pMn7q9Y777fH?e%3Ddownload&hash=cigs9jfthnio11o1thsgq20c1ipbm6f3\n",
            "Connecting to docs.google.com (docs.google.com)|74.125.195.100|:443... connected.\n",
            "HTTP request sent, awaiting response... 302 Found\n",
            "Location: https://doc-0o-bc-docs.googleusercontent.com/docs/securesc/4mqm7oedsfn6qj87djsooo6flociam01/024c4ojllhmo5i1dfs5ogcks4790o3gf/1620779250000/08464293851449423376/07624238021879239110Z/117bRc2ArDHFy9X0j5Y71pMn7q9Y777fH?e=download&nonce=jq992s4f0n44i&user=07624238021879239110Z&hash=svnlmvtf847bm427lug6s1hukrkfa1c4 [following]\n",
            "--2021-05-12 00:27:51--  https://doc-0o-bc-docs.googleusercontent.com/docs/securesc/4mqm7oedsfn6qj87djsooo6flociam01/024c4ojllhmo5i1dfs5ogcks4790o3gf/1620779250000/08464293851449423376/07624238021879239110Z/117bRc2ArDHFy9X0j5Y71pMn7q9Y777fH?e=download&nonce=jq992s4f0n44i&user=07624238021879239110Z&hash=svnlmvtf847bm427lug6s1hukrkfa1c4\n",
            "Connecting to doc-0o-bc-docs.googleusercontent.com (doc-0o-bc-docs.googleusercontent.com)|74.125.195.132|:443... connected.\n",
            "HTTP request sent, awaiting response... 200 OK\n",
            "Length: unspecified [application/x-gzip]\n",
            "Saving to: ‘TensorRT-7.2.3.4.Ubuntu-18.04.x86_64-gnu.cuda-11.1.cudnn8.1.tar.gz’\n",
            "\n",
            "TensorRT-7.2.3.4.Ub     [   <=>              ] 973.35M  91.4MB/s    in 9.3s    \n",
            "\n",
            "2021-05-12 00:28:01 (105 MB/s) - ‘TensorRT-7.2.3.4.Ubuntu-18.04.x86_64-gnu.cuda-11.1.cudnn8.1.tar.gz’ saved [1020632285]\n",
            "\n"
          ],
          "name": "stdout"
        }
      ]
    },
    {
      "cell_type": "markdown",
      "metadata": {
        "id": "1MdWlK2w-T71"
      },
      "source": [
        "## Install TensorRT7"
      ]
    },
    {
      "cell_type": "code",
      "metadata": {
        "id": "yQiKfYa99vYz"
      },
      "source": [
        "!tar -xvzf TensorRT-7.2.3.4.Ubuntu-18.04.x86_64-gnu.cuda-11.1.cudnn8.1.tar.gz\n",
        "!export TRT_LIBPATH=`pwd`/TensorRT-7.2.3.4"
      ],
      "execution_count": null,
      "outputs": []
    },
    {
      "cell_type": "code",
      "metadata": {
        "colab": {
          "base_uri": "https://localhost:8080/"
        },
        "id": "NoOZ_ToV9vbD",
        "outputId": "20c1f8d4-103a-48fc-e4b6-7a7fcb01ef91"
      },
      "source": [
        "%cd ./TensorRT-7.2.3.4/python/\n",
        "!pip install tensorrt-7.2.3.4-cp37-none-linux_x86_64.whl\n",
        "%cd ..\n",
        "%cd .."
      ],
      "execution_count": null,
      "outputs": [
        {
          "output_type": "stream",
          "text": [
            "/content/TensorRT-7.2.3.4/python\n",
            "Processing ./tensorrt-7.2.3.4-cp37-none-linux_x86_64.whl\n",
            "Installing collected packages: tensorrt\n",
            "Successfully installed tensorrt-7.2.3.4\n",
            "/content/TensorRT-7.2.3.4\n",
            "/content\n"
          ],
          "name": "stdout"
        }
      ]
    },
    {
      "cell_type": "code",
      "metadata": {
        "colab": {
          "base_uri": "https://localhost:8080/"
        },
        "id": "7-JstoUV9vdb",
        "outputId": "1af087dc-08ae-44ee-a37b-35dfc4097351"
      },
      "source": [
        "%cd ./TensorRT-7.2.3.4/onnx_graphsurgeon/\n",
        "!pip install onnx_graphsurgeon-0.2.6-py2.py3-none-any.whl\n",
        "%cd ..\n",
        "%cd .."
      ],
      "execution_count": null,
      "outputs": [
        {
          "output_type": "stream",
          "text": [
            "/content/TensorRT-7.2.3.4/onnx_graphsurgeon\n",
            "Processing ./onnx_graphsurgeon-0.2.6-py2.py3-none-any.whl\n",
            "Requirement already satisfied: numpy in /usr/local/lib/python3.7/dist-packages (from onnx-graphsurgeon==0.2.6) (1.19.5)\n",
            "Collecting onnx\n",
            "\u001b[?25l  Downloading https://files.pythonhosted.org/packages/3f/9b/54c950d3256e27f970a83cd0504efb183a24312702deed0179453316dbd0/onnx-1.9.0-cp37-cp37m-manylinux2010_x86_64.whl (12.2MB)\n",
            "\u001b[K     |████████████████████████████████| 12.2MB 7.5MB/s \n",
            "\u001b[?25hRequirement already satisfied: six in /usr/local/lib/python3.7/dist-packages (from onnx->onnx-graphsurgeon==0.2.6) (1.15.0)\n",
            "Requirement already satisfied: typing-extensions>=3.6.2.1 in /usr/local/lib/python3.7/dist-packages (from onnx->onnx-graphsurgeon==0.2.6) (3.7.4.3)\n",
            "Requirement already satisfied: protobuf in /usr/local/lib/python3.7/dist-packages (from onnx->onnx-graphsurgeon==0.2.6) (3.12.4)\n",
            "Requirement already satisfied: setuptools in /usr/local/lib/python3.7/dist-packages (from protobuf->onnx->onnx-graphsurgeon==0.2.6) (56.1.0)\n",
            "Installing collected packages: onnx, onnx-graphsurgeon\n",
            "Successfully installed onnx-1.9.0 onnx-graphsurgeon-0.2.6\n",
            "/content/TensorRT-7.2.3.4\n",
            "/content\n"
          ],
          "name": "stdout"
        }
      ]
    },
    {
      "cell_type": "code",
      "metadata": {
        "colab": {
          "base_uri": "https://localhost:8080/"
        },
        "id": "5QHtIZJqBs56",
        "outputId": "e356d6cf-d6e9-4dbe-e1d9-b30dbc815aa3"
      },
      "source": [
        "!sudo apt-get install libnvinfer7"
      ],
      "execution_count": null,
      "outputs": [
        {
          "output_type": "stream",
          "text": [
            "Reading package lists... Done\n",
            "Building dependency tree       \n",
            "Reading state information... Done\n",
            "The following package was automatically installed and is no longer required:\n",
            "  libnvidia-common-460\n",
            "Use 'sudo apt autoremove' to remove it.\n",
            "The following additional packages will be installed:\n",
            "  cuda-nvrtc-11-1 libcublas-11-3\n",
            "The following NEW packages will be installed:\n",
            "  cuda-nvrtc-11-1 libcublas-11-3 libnvinfer7\n",
            "0 upgraded, 3 newly installed, 0 to remove and 34 not upgraded.\n",
            "Need to get 276 MB of archives.\n",
            "After this operation, 975 MB of additional disk space will be used.\n",
            "Get:1 https://developer.download.nvidia.com/compute/cuda/repos/ubuntu1804/x86_64  cuda-nvrtc-11-1 11.1.105-1 [11.1 MB]\n",
            "Get:2 https://developer.download.nvidia.com/compute/cuda/repos/ubuntu1804/x86_64  libcublas-11-3 11.4.2.10064-1 [134 MB]\n",
            "Get:3 https://developer.download.nvidia.com/compute/machine-learning/repos/ubuntu1804/x86_64  libnvinfer7 7.2.3-1+cuda11.1 [131 MB]\n",
            "Fetched 276 MB in 6s (46.2 MB/s)\n",
            "debconf: unable to initialize frontend: Dialog\n",
            "debconf: (No usable dialog-like program is installed, so the dialog based frontend cannot be used. at /usr/share/perl5/Debconf/FrontEnd/Dialog.pm line 76, <> line 3.)\n",
            "debconf: falling back to frontend: Readline\n",
            "debconf: unable to initialize frontend: Readline\n",
            "debconf: (This frontend requires a controlling tty.)\n",
            "debconf: falling back to frontend: Teletype\n",
            "dpkg-preconfigure: unable to re-open stdin: \n",
            "Selecting previously unselected package cuda-nvrtc-11-1.\n",
            "(Reading database ... 160706 files and directories currently installed.)\n",
            "Preparing to unpack .../cuda-nvrtc-11-1_11.1.105-1_amd64.deb ...\n",
            "Unpacking cuda-nvrtc-11-1 (11.1.105-1) ...\n",
            "Selecting previously unselected package libcublas-11-3.\n",
            "Preparing to unpack .../libcublas-11-3_11.4.2.10064-1_amd64.deb ...\n",
            "Unpacking libcublas-11-3 (11.4.2.10064-1) ...\n",
            "Selecting previously unselected package libnvinfer7.\n",
            "Preparing to unpack .../libnvinfer7_7.2.3-1+cuda11.1_amd64.deb ...\n",
            "Unpacking libnvinfer7 (7.2.3-1+cuda11.1) ...\n",
            "Setting up libcublas-11-3 (11.4.2.10064-1) ...\n",
            "Setting up cuda-nvrtc-11-1 (11.1.105-1) ...\n",
            "Setting up libnvinfer7 (7.2.3-1+cuda11.1) ...\n",
            "Processing triggers for libc-bin (2.27-3ubuntu1.2) ...\n",
            "/sbin/ldconfig.real: /usr/local/lib/python3.7/dist-packages/ideep4py/lib/libmkldnn.so.0 is not a symbolic link\n",
            "\n"
          ],
          "name": "stdout"
        }
      ]
    },
    {
      "cell_type": "markdown",
      "metadata": {
        "id": "KvjFZJU8-n0R"
      },
      "source": [
        "Add path"
      ]
    },
    {
      "cell_type": "code",
      "metadata": {
        "id": "KN43NmSI9vgD"
      },
      "source": [
        "!export PATH=$PATH:/usr/local/cuda/bin\n",
        "!export PATH=$PATH:/content/TensorRT-7.2.3.4/lib\n",
        "!export LD_LIBRARY_PATH=$LD_LIBRARY_PATH:/usr/local/cuda/lib64\n",
        "!export LIBRARY_PATH=$LIBRARY_PATH:/usr/local/cuda/lib64\n",
        "!source /etc/profile\n",
        "\n",
        "!export LD_LIBRARY_PATH=/content/TensorRT-7.2.3.4/lib:$LD_LIBRARY_PATH\n",
        "!source ~/.bashrc"
      ],
      "execution_count": null,
      "outputs": []
    },
    {
      "cell_type": "code",
      "metadata": {
        "id": "chAq_9qj9vi1"
      },
      "source": [
        "# if neccessary, copy libs into /usr/lib/\n",
        "\n",
        "# !sudo cp -r /content/TensorRT-7.2.3.4/lib/ /usr/lib/\n",
        "!sudo cp /usr/local/cuda-11.1/lib64/libnvrtc.so.11.1  /usr/lib/\n",
        "!sudo cp /content/TensorRT-7.2.3.4/lib/libnvonnxparser.so.7  /usr/lib/\n",
        "!sudo cp /content/TensorRT-7.2.3.4/lib/libnvparsers.so.7  /usr/lib/\n",
        "!sudo cp /content/TensorRT-7.2.3.4/lib/libnvinfer_plugin.so.7  /usr/lib/"
      ],
      "execution_count": null,
      "outputs": []
    },
    {
      "cell_type": "code",
      "metadata": {
        "colab": {
          "base_uri": "https://localhost:8080/"
        },
        "id": "1-y9kp_a_RLS",
        "outputId": "e7d5fb15-9b3f-4a19-dc9e-9469798e748d"
      },
      "source": [
        "!pip3 install torch==1.8.1+cu111 torchvision==0.9.1+cu111 torchaudio==0.8.1 -f https://download.pytorch.org/whl/torch_stable.html"
      ],
      "execution_count": null,
      "outputs": [
        {
          "output_type": "stream",
          "text": [
            "Looking in links: https://download.pytorch.org/whl/torch_stable.html\n",
            "Collecting torch==1.8.1+cu111\n",
            "\u001b[?25l  Downloading https://download.pytorch.org/whl/cu111/torch-1.8.1%2Bcu111-cp37-cp37m-linux_x86_64.whl (1982.2MB)\n",
            "\u001b[K     |█████████████▌                  | 834.1MB 1.6MB/s eta 0:12:11tcmalloc: large alloc 1147494400 bytes == 0x56019120e000 @  0x7fbf26fe2615 0x560157b52cdc 0x560157c3252a 0x560157b55afd 0x560157c46fed 0x560157bc9988 0x560157bc44ae 0x560157b573ea 0x560157bc97f0 0x560157bc44ae 0x560157b573ea 0x560157bc632a 0x560157c47e36 0x560157bc5853 0x560157c47e36 0x560157bc5853 0x560157c47e36 0x560157bc5853 0x560157c47e36 0x560157cca3e1 0x560157c2a6a9 0x560157b95cc4 0x560157b56559 0x560157bca4f8 0x560157b5730a 0x560157bc53b5 0x560157bc47ad 0x560157b573ea 0x560157bc53b5 0x560157b5730a 0x560157bc53b5\n",
            "\u001b[K     |█████████████████               | 1055.7MB 1.6MB/s eta 0:09:36tcmalloc: large alloc 1434370048 bytes == 0x5601d5864000 @  0x7fbf26fe2615 0x560157b52cdc 0x560157c3252a 0x560157b55afd 0x560157c46fed 0x560157bc9988 0x560157bc44ae 0x560157b573ea 0x560157bc97f0 0x560157bc44ae 0x560157b573ea 0x560157bc632a 0x560157c47e36 0x560157bc5853 0x560157c47e36 0x560157bc5853 0x560157c47e36 0x560157bc5853 0x560157c47e36 0x560157cca3e1 0x560157c2a6a9 0x560157b95cc4 0x560157b56559 0x560157bca4f8 0x560157b5730a 0x560157bc53b5 0x560157bc47ad 0x560157b573ea 0x560157bc53b5 0x560157b5730a 0x560157bc53b5\n",
            "\u001b[K     |█████████████████████▋          | 1336.2MB 1.4MB/s eta 0:07:48tcmalloc: large alloc 1792966656 bytes == 0x56015a696000 @  0x7fbf26fe2615 0x560157b52cdc 0x560157c3252a 0x560157b55afd 0x560157c46fed 0x560157bc9988 0x560157bc44ae 0x560157b573ea 0x560157bc97f0 0x560157bc44ae 0x560157b573ea 0x560157bc632a 0x560157c47e36 0x560157bc5853 0x560157c47e36 0x560157bc5853 0x560157c47e36 0x560157bc5853 0x560157c47e36 0x560157cca3e1 0x560157c2a6a9 0x560157b95cc4 0x560157b56559 0x560157bca4f8 0x560157b5730a 0x560157bc53b5 0x560157bc47ad 0x560157b573ea 0x560157bc53b5 0x560157b5730a 0x560157bc53b5\n",
            "\u001b[K     |███████████████████████████▎    | 1691.1MB 1.6MB/s eta 0:03:05tcmalloc: large alloc 2241208320 bytes == 0x5601c547e000 @  0x7fbf26fe2615 0x560157b52cdc 0x560157c3252a 0x560157b55afd 0x560157c46fed 0x560157bc9988 0x560157bc44ae 0x560157b573ea 0x560157bc97f0 0x560157bc44ae 0x560157b573ea 0x560157bc632a 0x560157c47e36 0x560157bc5853 0x560157c47e36 0x560157bc5853 0x560157c47e36 0x560157bc5853 0x560157c47e36 0x560157cca3e1 0x560157c2a6a9 0x560157b95cc4 0x560157b56559 0x560157bca4f8 0x560157b5730a 0x560157bc53b5 0x560157bc47ad 0x560157b573ea 0x560157bc53b5 0x560157b5730a 0x560157bc53b5\n",
            "\u001b[K     |████████████████████████████████| 1982.2MB 1.4MB/s eta 0:00:01tcmalloc: large alloc 1982177280 bytes == 0x56024ade0000 @  0x7fbf26fe11e7 0x560157b88f37 0x560157b52cdc 0x560157c3252a 0x560157b55afd 0x560157c46fed 0x560157bc9988 0x560157bc44ae 0x560157b573ea 0x560157bc560e 0x560157bc44ae 0x560157b573ea 0x560157bc560e 0x560157bc44ae 0x560157b573ea 0x560157bc560e 0x560157bc44ae 0x560157b573ea 0x560157bc560e 0x560157bc44ae 0x560157b573ea 0x560157bc560e 0x560157b5730a 0x560157bc560e 0x560157bc44ae 0x560157b573ea 0x560157bc632a 0x560157bc44ae 0x560157b573ea 0x560157bc632a 0x560157bc44ae\n",
            "tcmalloc: large alloc 2477727744 bytes == 0x5603354fc000 @  0x7fbf26fe2615 0x560157b52cdc 0x560157c3252a 0x560157b55afd 0x560157c46fed 0x560157bc9988 0x560157bc44ae 0x560157b573ea 0x560157bc560e 0x560157bc44ae 0x560157b573ea 0x560157bc560e 0x560157bc44ae 0x560157b573ea 0x560157bc560e 0x560157bc44ae 0x560157b573ea 0x560157bc560e 0x560157bc44ae 0x560157b573ea 0x560157bc560e 0x560157b5730a 0x560157bc560e 0x560157bc44ae 0x560157b573ea 0x560157bc632a 0x560157bc44ae 0x560157b573ea 0x560157bc632a 0x560157bc44ae 0x560157b57a81\n",
            "\u001b[K     |████████████████████████████████| 1982.2MB 6.9kB/s \n",
            "\u001b[?25hCollecting torchvision==0.9.1+cu111\n",
            "\u001b[?25l  Downloading https://download.pytorch.org/whl/cu111/torchvision-0.9.1%2Bcu111-cp37-cp37m-linux_x86_64.whl (17.6MB)\n",
            "\u001b[K     |████████████████████████████████| 17.6MB 320kB/s \n",
            "\u001b[?25hCollecting torchaudio==0.8.1\n",
            "\u001b[?25l  Downloading https://files.pythonhosted.org/packages/aa/55/01ad9244bcd595e39cea5ce30726a7fe02fd963d07daeb136bfe7e23f0a5/torchaudio-0.8.1-cp37-cp37m-manylinux1_x86_64.whl (1.9MB)\n",
            "\u001b[K     |████████████████████████████████| 1.9MB 9.2MB/s \n",
            "\u001b[?25hRequirement already satisfied: typing-extensions in /usr/local/lib/python3.7/dist-packages (from torch==1.8.1+cu111) (3.7.4.3)\n",
            "Requirement already satisfied: numpy in /usr/local/lib/python3.7/dist-packages (from torch==1.8.1+cu111) (1.19.5)\n",
            "Requirement already satisfied: pillow>=4.1.1 in /usr/local/lib/python3.7/dist-packages (from torchvision==0.9.1+cu111) (7.1.2)\n",
            "Installing collected packages: torch, torchvision, torchaudio\n",
            "  Found existing installation: torch 1.8.1+cu101\n",
            "    Uninstalling torch-1.8.1+cu101:\n",
            "      Successfully uninstalled torch-1.8.1+cu101\n",
            "  Found existing installation: torchvision 0.9.1+cu101\n",
            "    Uninstalling torchvision-0.9.1+cu101:\n",
            "      Successfully uninstalled torchvision-0.9.1+cu101\n",
            "Successfully installed torch-1.8.1+cu111 torchaudio-0.8.1 torchvision-0.9.1+cu111\n"
          ],
          "name": "stdout"
        }
      ]
    },
    {
      "cell_type": "code",
      "metadata": {
        "colab": {
          "base_uri": "https://localhost:8080/"
        },
        "id": "MErxOBKm_Y2_",
        "outputId": "32a0885c-3e43-41ab-87aa-f08f855205c9"
      },
      "source": [
        "!pip install onnx onnxruntime pycuda"
      ],
      "execution_count": null,
      "outputs": [
        {
          "output_type": "stream",
          "text": [
            "Requirement already satisfied: onnx in /usr/local/lib/python3.7/dist-packages (1.9.0)\n",
            "Requirement already satisfied: onnxruntime in /usr/local/lib/python3.7/dist-packages (1.7.0)\n",
            "Collecting pycuda\n",
            "\u001b[?25l  Downloading https://files.pythonhosted.org/packages/5a/56/4682a5118a234d15aa1c8768a528aac4858c7b04d2674e18d586d3dfda04/pycuda-2021.1.tar.gz (1.7MB)\n",
            "\u001b[K     |████████████████████████████████| 1.7MB 7.3MB/s \n",
            "\u001b[?25h  Installing build dependencies ... \u001b[?25l\u001b[?25hdone\n",
            "  Getting requirements to build wheel ... \u001b[?25l\u001b[?25hdone\n",
            "    Preparing wheel metadata ... \u001b[?25l\u001b[?25hdone\n",
            "Requirement already satisfied: six in /usr/local/lib/python3.7/dist-packages (from onnx) (1.15.0)\n",
            "Requirement already satisfied: typing-extensions>=3.6.2.1 in /usr/local/lib/python3.7/dist-packages (from onnx) (3.7.4.3)\n",
            "Requirement already satisfied: numpy>=1.16.6 in /usr/local/lib/python3.7/dist-packages (from onnx) (1.19.5)\n",
            "Requirement already satisfied: protobuf in /usr/local/lib/python3.7/dist-packages (from onnx) (3.12.4)\n",
            "Collecting mako\n",
            "\u001b[?25l  Downloading https://files.pythonhosted.org/packages/f3/54/dbc07fbb20865d3b78fdb7cf7fa713e2cba4f87f71100074ef2dc9f9d1f7/Mako-1.1.4-py2.py3-none-any.whl (75kB)\n",
            "\u001b[K     |████████████████████████████████| 81kB 8.5MB/s \n",
            "\u001b[?25hCollecting pytools>=2011.2\n",
            "\u001b[?25l  Downloading https://files.pythonhosted.org/packages/49/5b/136e5688da9bbd915ee8190bfd6a007fc0b19d71f26d5a2ab4b737b2eeb4/pytools-2021.2.6.tar.gz (63kB)\n",
            "\u001b[K     |████████████████████████████████| 71kB 8.4MB/s \n",
            "\u001b[?25hRequirement already satisfied: appdirs>=1.4.0 in /usr/local/lib/python3.7/dist-packages (from pycuda) (1.4.4)\n",
            "Requirement already satisfied: setuptools in /usr/local/lib/python3.7/dist-packages (from protobuf->onnx) (56.1.0)\n",
            "Requirement already satisfied: MarkupSafe>=0.9.2 in /usr/local/lib/python3.7/dist-packages (from mako->pycuda) (1.1.1)\n",
            "Building wheels for collected packages: pycuda\n",
            "  Building wheel for pycuda (PEP 517) ... \u001b[?25l\u001b[?25hdone\n",
            "  Created wheel for pycuda: filename=pycuda-2021.1-cp37-cp37m-linux_x86_64.whl size=627880 sha256=a3122be86817398d596b365099e883195d906b367cc4c263b8dca6afba3fa12c\n",
            "  Stored in directory: /root/.cache/pip/wheels/d5/55/64/fd4dddcc5f1c25eebd90b5291c3769101dc978c70165685512\n",
            "Successfully built pycuda\n",
            "Building wheels for collected packages: pytools\n",
            "  Building wheel for pytools (setup.py) ... \u001b[?25l\u001b[?25hdone\n",
            "  Created wheel for pytools: filename=pytools-2021.2.6-py2.py3-none-any.whl size=60643 sha256=3e458d54c9ad0dc7b02f88b57d45684ec9c8cd255820861428d3f2a27587aaae\n",
            "  Stored in directory: /root/.cache/pip/wheels/8c/a6/65/447b9b4fd1d9bde84ad2fea2431a38f69f3fb573476a98ae03\n",
            "Successfully built pytools\n",
            "Installing collected packages: mako, pytools, pycuda\n",
            "Successfully installed mako-1.1.4 pycuda-2021.1 pytools-2021.2.6\n"
          ],
          "name": "stdout"
        }
      ]
    },
    {
      "cell_type": "code",
      "metadata": {
        "colab": {
          "base_uri": "https://localhost:8080/"
        },
        "id": "o186CR4x_s-i",
        "outputId": "d5fdeb0d-552c-427c-fb4d-c47151199072"
      },
      "source": [
        "# download image\n",
        "!mkdir ./data\n",
        "!wget  -O ./data/img0.JPG \"https://d17fnq9dkz9hgj.cloudfront.net/breed-uploads/2018/08/siberian-husky-detail.jpg?bust=1535566590&width=630\""
      ],
      "execution_count": null,
      "outputs": [
        {
          "output_type": "stream",
          "text": [
            "--2021-05-12 00:39:12--  https://d17fnq9dkz9hgj.cloudfront.net/breed-uploads/2018/08/siberian-husky-detail.jpg?bust=1535566590&width=630\n",
            "Resolving d17fnq9dkz9hgj.cloudfront.net (d17fnq9dkz9hgj.cloudfront.net)... 13.224.2.174, 13.224.2.116, 13.224.2.76, ...\n",
            "Connecting to d17fnq9dkz9hgj.cloudfront.net (d17fnq9dkz9hgj.cloudfront.net)|13.224.2.174|:443... connected.\n",
            "HTTP request sent, awaiting response... 200 OK\n",
            "Length: 24112 (24K) [image/jpeg]\n",
            "Saving to: ‘./data/img0.JPG’\n",
            "\n",
            "\r./data/img0.JPG       0%[                    ]       0  --.-KB/s               \r./data/img0.JPG     100%[===================>]  23.55K  --.-KB/s    in 0.002s  \n",
            "\n",
            "2021-05-12 00:39:12 (12.9 MB/s) - ‘./data/img0.JPG’ saved [24112/24112]\n",
            "\n"
          ],
          "name": "stdout"
        }
      ]
    },
    {
      "cell_type": "code",
      "metadata": {
        "colab": {
          "base_uri": "https://localhost:8080/"
        },
        "id": "uQYMuPDP_-Uc",
        "outputId": "bb21084d-5b08-42f2-d337-7d68f35265d7"
      },
      "source": [
        "# download imagenet class name(need for torch model)\n",
        "!wget https://raw.githubusercontent.com/pytorch/hub/master/imagenet_classes.txt"
      ],
      "execution_count": null,
      "outputs": [
        {
          "output_type": "stream",
          "text": [
            "--2021-05-12 00:39:16--  https://raw.githubusercontent.com/pytorch/hub/master/imagenet_classes.txt\n",
            "Resolving raw.githubusercontent.com (raw.githubusercontent.com)... 185.199.110.133, 185.199.108.133, 185.199.111.133, ...\n",
            "Connecting to raw.githubusercontent.com (raw.githubusercontent.com)|185.199.110.133|:443... connected.\n",
            "HTTP request sent, awaiting response... 200 OK\n",
            "Length: 10472 (10K) [text/plain]\n",
            "Saving to: ‘imagenet_classes.txt’\n",
            "\n",
            "imagenet_classes.tx 100%[===================>]  10.23K  --.-KB/s    in 0s      \n",
            "\n",
            "2021-05-12 00:39:16 (57.0 MB/s) - ‘imagenet_classes.txt’ saved [10472/10472]\n",
            "\n"
          ],
          "name": "stdout"
        }
      ]
    },
    {
      "cell_type": "code",
      "metadata": {
        "colab": {
          "base_uri": "https://localhost:8080/",
          "height": 85,
          "referenced_widgets": [
            "b95f30ffb3cd4d1e8e5bdd8ce615b11e",
            "c7006d6603ce4eeb8b3274882932a860",
            "7cf4cfdcc96e46af812caef6bd79ba62",
            "2361640b29e243b28be94cb5815260e4",
            "1f59335bcb6f4c37b84df47f5df217b1",
            "11a129d2d2c848068125b02dc50ee638",
            "810c17c1ae974f309c2c73f4f997fb2d",
            "c52eefcfb1714e7f8977cc89231599a8"
          ]
        },
        "id": "2gpkdJ1W_Y5j",
        "outputId": "373e22f4-32c3-4844-d2d9-4bcb2fb5b733"
      },
      "source": [
        "# load resnet50\n",
        "from torchvision import models\n",
        "model = models.resnet50(pretrained=True)"
      ],
      "execution_count": null,
      "outputs": [
        {
          "output_type": "stream",
          "text": [
            "Downloading: \"https://download.pytorch.org/models/resnet50-19c8e357.pth\" to /root/.cache/torch/hub/checkpoints/resnet50-19c8e357.pth\n"
          ],
          "name": "stderr"
        },
        {
          "output_type": "display_data",
          "data": {
            "application/vnd.jupyter.widget-view+json": {
              "model_id": "b95f30ffb3cd4d1e8e5bdd8ce615b11e",
              "version_minor": 0,
              "version_major": 2
            },
            "text/plain": [
              "HBox(children=(FloatProgress(value=0.0, max=102502400.0), HTML(value='')))"
            ]
          },
          "metadata": {
            "tags": []
          }
        },
        {
          "output_type": "stream",
          "text": [
            "\n"
          ],
          "name": "stdout"
        }
      ]
    },
    {
      "cell_type": "code",
      "metadata": {
        "id": "uXl2IiU5_Y73"
      },
      "source": [
        "import cv2\n",
        "import torch\n",
        "from albumentations import Resize, Compose\n",
        "from albumentations.pytorch.transforms import  ToTensor\n",
        "from albumentations.augmentations.transforms import Normalize\n",
        " \n",
        "def preprocess_image(img_path):\n",
        "    # transformations for the input data\n",
        "    transforms = Compose([\n",
        "        Resize(224, 224, interpolation=cv2.INTER_NEAREST),\n",
        "        Normalize(mean=[0.485, 0.456, 0.406], std=[0.229, 0.224, 0.225]),\n",
        "        ToTensor(),\n",
        "    ])\n",
        "\n",
        "     \n",
        "\n",
        "    # read input image\n",
        "\n",
        "    input_img = cv2.imread(img_path)\n",
        "\n",
        "    # do transformations\n",
        "\n",
        "    input_data = transforms(image=input_img)[\"image\"]\n",
        "    batch_data = torch.unsqueeze(input_data, 0)\n",
        "\n",
        "    return batch_data"
      ],
      "execution_count": null,
      "outputs": []
    },
    {
      "cell_type": "code",
      "metadata": {
        "id": "KExsr52O_Y_H"
      },
      "source": [
        "input = preprocess_image(\"./data/img0.JPG\").cuda()"
      ],
      "execution_count": null,
      "outputs": []
    },
    {
      "cell_type": "code",
      "metadata": {
        "id": "JNq5VvPf_nmx"
      },
      "source": [
        "model.eval()\n",
        "model.cuda()\n",
        "output = model(input)"
      ],
      "execution_count": null,
      "outputs": []
    },
    {
      "cell_type": "code",
      "metadata": {
        "colab": {
          "base_uri": "https://localhost:8080/"
        },
        "id": "aADNoyJy_npG",
        "outputId": "808eb94d-0065-4c99-cf8c-c0e1623f472b"
      },
      "source": [
        "def postprocess(output_data):\n",
        "    # get class names\n",
        "    with open(\"imagenet_classes.txt\") as f:\n",
        "        classes = [line.strip() for line in f.readlines()]\n",
        "    # calculate human-readable value by softmax\n",
        "    confidences = torch.nn.functional.softmax(output_data, dim=1)[0] * 100\n",
        "    # find top predicted classes\n",
        "    _, indices = torch.sort(output_data, descending=True)\n",
        "    i = 0\n",
        "    # print the top classes predicted by the model\n",
        "\n",
        "    while confidences[indices[0][i]] > 0.5:\n",
        "        class_idx = indices[0][i]\n",
        "        print(\n",
        "            \"class:\",\n",
        "            classes[class_idx],\n",
        "            \", confidence:\",\n",
        "            confidences[class_idx].item(),\n",
        "            \"%, index:\",\n",
        "            class_idx.item(),\n",
        "        )\n",
        "        i += 1\n",
        "\n",
        "\n",
        "postprocess(output)"
      ],
      "execution_count": null,
      "outputs": [
        {
          "output_type": "stream",
          "text": [
            "class: Eskimo dog , confidence: 45.000240325927734 %, index: 248\n",
            "class: Siberian husky , confidence: 44.0692138671875 %, index: 250\n",
            "class: malamute , confidence: 7.553358554840088 %, index: 249\n",
            "class: timber wolf , confidence: 2.859858512878418 %, index: 269\n"
          ],
          "name": "stdout"
        }
      ]
    },
    {
      "cell_type": "code",
      "metadata": {
        "id": "GxMspbV3_nsh"
      },
      "source": [
        "# convert torch model to .onnx model\n",
        "ONNX_FILE_PATH = 'resnet50.onnx'\n",
        "torch.onnx.export(model, input, ONNX_FILE_PATH, input_names=['input'],\n",
        "                  output_names=['output'], export_params=True)"
      ],
      "execution_count": null,
      "outputs": []
    },
    {
      "cell_type": "code",
      "metadata": {
        "id": "6zcwPmgDAK5B"
      },
      "source": [
        "# load .onnx model\n",
        "import onnx\n",
        "onnx_model = onnx.load(ONNX_FILE_PATH)\n",
        "onnx.checker.check_model(onnx_model)"
      ],
      "execution_count": null,
      "outputs": []
    },
    {
      "cell_type": "code",
      "metadata": {
        "colab": {
          "base_uri": "https://localhost:8080/"
        },
        "id": "tk0BGL2DAK7g",
        "outputId": "d0018c10-c764-4d8a-f66a-2a48435b3b7a"
      },
      "source": [
        "# do inference with .onnx model(onnx default runtime) \n",
        "import onnxruntime\n",
        "import numpy as np\n",
        "\n",
        "ort_session = onnxruntime.InferenceSession(\"resnet50.onnx\")\n",
        "\n",
        "def to_numpy(tensor):\n",
        "    return tensor.detach().cpu().numpy() if tensor.requires_grad else tensor.cpu().numpy()\n",
        "\n",
        "# compute ONNX Runtime output prediction\n",
        "ort_inputs = {ort_session.get_inputs()[0].name: to_numpy(input)}\n",
        "ort_outs = ort_session.run(None, ort_inputs)\n",
        "\n",
        "# compare ONNX Runtime and PyTorch results\n",
        "np.testing.assert_allclose(to_numpy(output), ort_outs[0], rtol=1e-03, atol=1e-05)\n",
        "\n",
        "print(\"Exported model has been tested with ONNXRuntime, and the result looks good!\")"
      ],
      "execution_count": null,
      "outputs": [
        {
          "output_type": "stream",
          "text": [
            "Exported model has been tested with ONNXRuntime, and the result looks good!\n"
          ],
          "name": "stdout"
        }
      ]
    },
    {
      "cell_type": "code",
      "metadata": {
        "id": "2wslIa2kAK-4"
      },
      "source": [
        "# consstruct tensorRT inference model(engine)\n",
        "\n",
        "import tensorrt as trt\n",
        "\n",
        "TRT_LOGGER = trt.Logger(trt.Logger.WARNING)\n",
        "trt_runtime = trt.Runtime(TRT_LOGGER)\n",
        "def build_engine(onnx_path, shape = [1,224,224,3]):\n",
        "\n",
        "   \"\"\"\n",
        "   This is the function to create the TensorRT engine\n",
        "   Args:\n",
        "      onnx_path : Path to onnx_file. \n",
        "      shape : Shape of the input of the ONNX file. \n",
        "  \"\"\"\n",
        "   with trt.Builder(TRT_LOGGER) as builder, builder.create_network(1) as network, trt.OnnxParser(network, TRT_LOGGER) as parser:\n",
        "       builder.max_workspace_size = (256 << 20)\n",
        "       with open(onnx_path, 'rb') as model:\n",
        "           parser.parse(model.read())\n",
        "       network.get_input(0).shape = shape\n",
        "       engine = builder.build_cuda_engine(network)\n",
        "       return engine\n",
        "\n",
        "def save_engine(engine, file_name):\n",
        "   buf = engine.serialize()\n",
        "   with open(file_name, 'wb') as f:\n",
        "       f.write(buf)\n",
        "def load_engine(trt_runtime, engine_path):\n",
        "   with open(engine_path, 'rb') as f:\n",
        "       engine_data = f.read()\n",
        "   engine = trt_runtime.deserialize_cuda_engine(engine_data)\n",
        "   return engine"
      ],
      "execution_count": null,
      "outputs": []
    },
    {
      "cell_type": "code",
      "metadata": {
        "id": "Dp1O1HC1ALA4"
      },
      "source": [
        "import argparse\n",
        "from onnx import ModelProto\n",
        "import tensorrt as trt\n",
        "\n",
        "engine_name = \"resnet50.plan\"\n",
        "onnx_path = \"resnet50.onnx\"\n",
        "batch_size = 1 \n",
        "\n",
        "model = ModelProto()\n",
        "with open(onnx_path, \"rb\") as f:\n",
        "  model.ParseFromString(f.read())\n",
        "\n",
        "d0 = model.graph.input[0].type.tensor_type.shape.dim[1].dim_value\n",
        "d1 = model.graph.input[0].type.tensor_type.shape.dim[2].dim_value\n",
        "d2 = model.graph.input[0].type.tensor_type.shape.dim[3].dim_value\n",
        "shape = [batch_size , d0, d1 ,d2]\n",
        "engine = build_engine(onnx_path, shape= shape)\n",
        "save_engine(engine, engine_name) "
      ],
      "execution_count": null,
      "outputs": []
    },
    {
      "cell_type": "code",
      "metadata": {
        "id": "XulQIdv6_nvM"
      },
      "source": [
        "import tensorrt as trt\n",
        "import pycuda.driver as cuda\n",
        "import numpy as np\n",
        "import pycuda.autoinit\n",
        "\n",
        "def allocate_buffers(engine, batch_size, data_type):\n",
        "\n",
        "   \"\"\"\n",
        "   This is the function to allocate buffers for input and output in the device\n",
        "   Args:\n",
        "      engine : The path to the TensorRT engine. \n",
        "      batch_size : The batch size for execution time.\n",
        "      data_type: The type of the data for input and output, for example trt.float32. \n",
        "   \n",
        "   Output:\n",
        "      h_input_1: Input in the host.\n",
        "      d_input_1: Input in the device. \n",
        "      h_output_1: Output in the host. \n",
        "      d_output_1: Output in the device. \n",
        "      stream: CUDA stream.\n",
        "\n",
        "   \"\"\"\n",
        "\n",
        "   # Determine dimensions and create page-locked memory buffers (which won't be swapped to disk) to hold host inputs/outputs.\n",
        "   h_input_1 = cuda.pagelocked_empty(batch_size * trt.volume(engine.get_binding_shape(0)), dtype=trt.nptype(data_type))\n",
        "   h_output = cuda.pagelocked_empty(batch_size * trt.volume(engine.get_binding_shape(1)), dtype=trt.nptype(data_type))\n",
        "   # Allocate device memory for inputs and outputs.\n",
        "   d_input_1 = cuda.mem_alloc(h_input_1.nbytes)\n",
        "\n",
        "   d_output = cuda.mem_alloc(h_output.nbytes)\n",
        "   # Create a stream in which to copy inputs/outputs and run inference.\n",
        "   stream = cuda.Stream()\n",
        "   return h_input_1, d_input_1, h_output, d_output, stream\n",
        "\n",
        "def load_images_to_buffer(pics, pagelocked_buffer):\n",
        "   preprocessed = np.asarray(pics).ravel()\n",
        "   np.copyto(pagelocked_buffer, preprocessed)\n",
        "\n",
        "def do_inference(engine, pics_1, h_input_1, d_input_1, h_output, d_output, stream, batch_size):\n",
        "   \"\"\"\n",
        "   This is the function to run the inference\n",
        "   Args:\n",
        "      engine : Path to the TensorRT engine \n",
        "      pics_1 : Input images to the model.  \n",
        "      h_input_1: Input in the host         \n",
        "      d_input_1: Input in the device \n",
        "      h_output_1: Output in the host \n",
        "      d_output_1: Output in the device \n",
        "      stream: CUDA stream\n",
        "      batch_size : Batch size for execution time\n",
        "      height: Height of the output image\n",
        "      width: Width of the output image\n",
        "   \n",
        "   Output:\n",
        "      The list of output images\n",
        "\n",
        "   \"\"\"\n",
        "\n",
        "   load_images_to_buffer(pics_1, h_input_1)\n",
        "\n",
        "   with engine.create_execution_context() as context:\n",
        "       # Transfer input data to the GPU.\n",
        "       cuda.memcpy_htod_async(d_input_1, h_input_1, stream)\n",
        "\n",
        "       # Run inference.\n",
        "\n",
        "       context.profiler = trt.Profiler()\n",
        "       context.execute(batch_size=1, bindings=[int(d_input_1), int(d_output)])\n",
        "\n",
        "       # Transfer predictions back from the GPU.\n",
        "       cuda.memcpy_dtoh_async(h_output, d_output, stream)\n",
        "       # Synchronize the stream\n",
        "       stream.synchronize()\n",
        "       # Return the host output.\n",
        "       out = h_output.reshape((batch_size,-1))\n",
        "       return out "
      ],
      "execution_count": null,
      "outputs": []
    },
    {
      "cell_type": "code",
      "metadata": {
        "colab": {
          "base_uri": "https://localhost:8080/",
          "height": 299
        },
        "id": "JCn3VgOOAs-C",
        "outputId": "83637d5e-a248-4dc9-b961-8d28283bdbe5"
      },
      "source": [
        "# do inference with .onnx using TensorRT runtime\n",
        "import tensorrt as trt\n",
        "from PIL import Image\n",
        "import skimage.transform\n",
        "import matplotlib.pyplot as plt\n",
        "\n",
        "def rescale_image(image, output_shape, order=1):\n",
        "   image = skimage.transform.resize(image, output_shape,\n",
        "               order=order, preserve_range=True, mode='reflect')\n",
        "   return image\n",
        "\n",
        "input_file_path = './data/img0.JPG'\n",
        "onnx_file = \"resnet50.onnx\"\n",
        "serialized_plan_fp32 = \"./resnet50.plan\"\n",
        "\n",
        "im = preprocess_image(\"./data/img0.JPG\").cpu()\n",
        "\n",
        "engine = load_engine(trt_runtime, serialized_plan_fp32)\n",
        "h_input, d_input, h_output, d_output, stream = allocate_buffers(engine, 1, trt.float32)\n",
        "out = do_inference(engine, im, h_input, d_input, h_output, d_output, stream, 1)\n",
        "\n",
        "plt.title('inference logistic')\n",
        "plt.plot(out[0])"
      ],
      "execution_count": null,
      "outputs": [
        {
          "output_type": "execute_result",
          "data": {
            "text/plain": [
              "[<matplotlib.lines.Line2D at 0x7f8bb58f0290>]"
            ]
          },
          "metadata": {
            "tags": []
          },
          "execution_count": 59
        },
        {
          "output_type": "display_data",
          "data": {
            "image/png": "[encoded data removed]",
            "text/plain": [
              "<Figure size 432x288 with 1 Axes>"
            ]
          },
          "metadata": {
            "tags": [],
            "needs_background": "light"
          }
        }
      ]
    }
  ]
}